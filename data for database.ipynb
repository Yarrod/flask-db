{
 "cells": [
  {
   "cell_type": "code",
   "execution_count": 4,
   "metadata": {},
   "outputs": [],
   "source": [
    "from flask import Flask, render_template, request, jsonify\n",
    "from flask_sqlalchemy import SQLAlchemy \n",
    "import numpy as np\n",
    "import time"
   ]
  },
  {
   "cell_type": "code",
   "execution_count": 3,
   "metadata": {},
   "outputs": [
    {
     "name": "stderr",
     "output_type": "stream",
     "text": [
      "C:\\ProgramData\\Anaconda3\\envs\\flaskenv\\lib\\site-packages\\flask_sqlalchemy\\__init__.py:835: FSADeprecationWarning: SQLALCHEMY_TRACK_MODIFICATIONS adds significant overhead and will be disabled by default in the future.  Set it to True or False to suppress this warning.\n",
      "  'SQLALCHEMY_TRACK_MODIFICATIONS adds significant overhead and '\n"
     ]
    }
   ],
   "source": [
    "app = Flask(__name__)\n",
    "app.config['SQLALCHEMY_DATABASE_URI'] = 'sqlite:///test.db'\n",
    "app.config['SECRET_KEY'] = 'secret'\n",
    "\n",
    "db = SQLAlchemy(app)"
   ]
  },
  {
   "cell_type": "code",
   "execution_count": 9,
   "metadata": {},
   "outputs": [
    {
     "data": {
      "image/png": "[encoded data removed]",
      "text/plain": [
       "<Figure size 432x288 with 1 Axes>"
      ]
     },
     "metadata": {
      "needs_background": "light"
     },
     "output_type": "display_data"
    }
   ],
   "source": [
    "import matplotlib.pyplot as plt\n",
    "import numpy as np\n",
    "\n",
    "mu, sigma = 100, 15\n",
    "x = mu + sigma * np.random.randn(10000)\n",
    "hist, bins = np.histogram(x, bins=50)\n",
    "width = 0.7 * (bins[1] - bins[0])\n",
    "center = (bins[:-1] + bins[1:]) / 2\n",
    "plt.bar(center, hist, align='center', width=width)\n",
    "plot_address = 'static/images/'+hex(int(time.time()))+'.png'\n",
    "plt.savefig(plot_address)"
   ]
  },
  {
   "cell_type": "code",
   "execution_count": 5,
   "metadata": {},
   "outputs": [
    {
     "data": {
      "text/plain": [
       "'0x5d0e42e8'"
      ]
     },
     "execution_count": 5,
     "metadata": {},
     "output_type": "execute_result"
    }
   ],
   "source": [
    "time_hash = "
   ]
  },
  {
   "cell_type": "code",
   "execution_count": null,
   "metadata": {},
   "outputs": [],
   "source": []
  },
  {
   "cell_type": "code",
   "execution_count": null,
   "metadata": {},
   "outputs": [],
   "source": []
  },
  {
   "cell_type": "code",
   "execution_count": null,
   "metadata": {},
   "outputs": [],
   "source": []
  },
  {
   "cell_type": "code",
   "execution_count": 4,
   "metadata": {},
   "outputs": [],
   "source": [
    "class City(db.Model):\n",
    "    id = db.Column(db.Integer, primary_key=True)\n",
    "    state = db.Column(db.String(2))\n",
    "    name = db.Column(db.String(50))"
   ]
  },
  {
   "cell_type": "code",
   "execution_count": 12,
   "metadata": {},
   "outputs": [],
   "source": [
    "class Vacancies(db.Model):\n",
    "    id = db.Column(db.Integer, primary_key=True)\n",
    "    region = db.Column(db.String(64))\n",
    "    branch = db.Column(db.String(64))\n",
    "    brand = db.Column(db.String(64))\n",
    "    applications = db.Column(db.Float)"
   ]
  },
  {
   "cell_type": "code",
   "execution_count": 18,
   "metadata": {},
   "outputs": [
    {
     "data": {
      "text/plain": [
       "11.0"
      ]
     },
     "execution_count": 18,
     "metadata": {},
     "output_type": "execute_result"
    }
   ],
   "source": [
    "Vacancies.query.filter_by(region=\"Brno\").first().applications"
   ]
  },
  {
   "cell_type": "code",
   "execution_count": 10,
   "metadata": {},
   "outputs": [
    {
     "data": {
      "text/plain": [
       "[<City 1>, <City 2>, <City 3>, <City 4>]"
      ]
     },
     "execution_count": 10,
     "metadata": {},
     "output_type": "execute_result"
    }
   ],
   "source": [
    "City.query.all()"
   ]
  },
  {
   "cell_type": "code",
   "execution_count": 7,
   "metadata": {},
   "outputs": [
    {
     "data": {
      "text/plain": [
       "16"
      ]
     },
     "execution_count": 7,
     "metadata": {},
     "output_type": "execute_result"
    }
   ],
   "source": [
    "np.random.randint(0,20)"
   ]
  },
  {
   "cell_type": "code",
   "execution_count": 2,
   "metadata": {},
   "outputs": [],
   "source": [
    "regions = [\"Praha\",\"Brno\",\"Ostrava\",\"Olomouc\"]\n",
    "branches = [\"Potravinářství\",\"Lesnictví\",\"IT\",\"Ostatní\"]\n",
    "brands = [\"Jobs\",\"Prace\"]"
   ]
  },
  {
   "cell_type": "code",
   "execution_count": 13,
   "metadata": {},
   "outputs": [],
   "source": [
    "final_data = []\n",
    "for region in regions:\n",
    "    for branch in branches:\n",
    "        for brand in brands:\n",
    "            final_data.append([region,branch,brand,np.random.randint(0,20)])"
   ]
  },
  {
   "cell_type": "code",
   "execution_count": 15,
   "metadata": {},
   "outputs": [],
   "source": [
    "for idx,row in enumerate(final_data):\n",
    "    final_data[idx] = [idx] + row"
   ]
  },
  {
   "cell_type": "code",
   "execution_count": 18,
   "metadata": {},
   "outputs": [
    {
     "data": {
      "text/plain": [
       "[[0, 'Praha', 'Potravinářství', 'Jobs', 15],\n",
       " [1, 'Praha', 'Potravinářství', 'Prace', 6],\n",
       " [2, 'Praha', 'Lesnictví', 'Jobs', 0],\n",
       " [3, 'Praha', 'Lesnictví', 'Prace', 17],\n",
       " [4, 'Praha', 'IT', 'Jobs', 4],\n",
       " [5, 'Praha', 'IT', 'Prace', 5],\n",
       " [6, 'Praha', 'Ostatní', 'Jobs', 18],\n",
       " [7, 'Praha', 'Ostatní', 'Prace', 19],\n",
       " [8, 'Brno', 'Potravinářství', 'Jobs', 11],\n",
       " [9, 'Brno', 'Potravinářství', 'Prace', 5],\n",
       " [10, 'Brno', 'Lesnictví', 'Jobs', 13],\n",
       " [11, 'Brno', 'Lesnictví', 'Prace', 19],\n",
       " [12, 'Brno', 'IT', 'Jobs', 16],\n",
       " [13, 'Brno', 'IT', 'Prace', 14],\n",
       " [14, 'Brno', 'Ostatní', 'Jobs', 12],\n",
       " [15, 'Brno', 'Ostatní', 'Prace', 8],\n",
       " [16, 'Ostrava', 'Potravinářství', 'Jobs', 17],\n",
       " [17, 'Ostrava', 'Potravinářství', 'Prace', 3],\n",
       " [18, 'Ostrava', 'Lesnictví', 'Jobs', 16],\n",
       " [19, 'Ostrava', 'Lesnictví', 'Prace', 9],\n",
       " [20, 'Ostrava', 'IT', 'Jobs', 13],\n",
       " [21, 'Ostrava', 'IT', 'Prace', 16],\n",
       " [22, 'Ostrava', 'Ostatní', 'Jobs', 11],\n",
       " [23, 'Ostrava', 'Ostatní', 'Prace', 4],\n",
       " [24, 'Olomouc', 'Potravinářství', 'Jobs', 12],\n",
       " [25, 'Olomouc', 'Potravinářství', 'Prace', 6],\n",
       " [26, 'Olomouc', 'Lesnictví', 'Jobs', 16],\n",
       " [27, 'Olomouc', 'Lesnictví', 'Prace', 5],\n",
       " [28, 'Olomouc', 'IT', 'Jobs', 15],\n",
       " [29, 'Olomouc', 'IT', 'Prace', 19],\n",
       " [30, 'Olomouc', 'Ostatní', 'Jobs', 11],\n",
       " [31, 'Olomouc', 'Ostatní', 'Prace', 10]]"
      ]
     },
     "execution_count": 18,
     "metadata": {},
     "output_type": "execute_result"
    }
   ],
   "source": [
    "final_data"
   ]
  },
  {
   "cell_type": "code",
   "execution_count": null,
   "metadata": {},
   "outputs": [],
   "source": [
    "CREATE TABLE vacancies (\n",
    "\tid INTEGER NOT NULL, \n",
    "\tregion VARCHAR(64), \n",
    "\tbranch VARCHAR(64), \n",
    "\tbrand VARCHAR(64), \n",
    "\tapplications FLOAT, \n",
    "\tPRIMARY KEY (id)\n",
    ")"
   ]
  }
 ],
 "metadata": {
  "kernelspec": {
   "display_name": "Python 3",
   "language": "python",
   "name": "python3"
  },
  "language_info": {
   "codemirror_mode": {
    "name": "ipython",
    "version": 3
   },
   "file_extension": ".py",
   "mimetype": "text/x-python",
   "name": "python",
   "nbconvert_exporter": "python",
   "pygments_lexer": "ipython3",
   "version": "3.7.3"
  }
 },
 "nbformat": 4,
 "nbformat_minor": 2
}
